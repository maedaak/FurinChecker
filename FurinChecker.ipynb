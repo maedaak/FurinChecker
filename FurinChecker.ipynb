{
  "nbformat": 4,
  "nbformat_minor": 0,
  "metadata": {
    "colab": {
      "provenance": [],
      "authorship_tag": "ABX9TyMTXdwYxK43AnyinhBb3p3H",
      "include_colab_link": true
    },
    "kernelspec": {
      "name": "python3",
      "display_name": "Python 3"
    },
    "language_info": {
      "name": "python"
    }
  },
  "cells": [
    {
      "cell_type": "markdown",
      "metadata": {
        "id": "view-in-github",
        "colab_type": "text"
      },
      "source": [
        "<a href=\"https://colab.research.google.com/github/maedaak/FuurinChecker/blob/main/FurinChecker.ipynb\" target=\"_parent\"><img src=\"https://colab.research.google.com/assets/colab-badge.svg\" alt=\"Open In Colab\"/></a>"
      ]
    },
    {
      "cell_type": "markdown",
      "source": [
        "# Furin Checker\n",
        "日本語の文章中から異なる表記（異体字等）をつかっている名詞を出力します。\n",
        "Sudachiの日本語辞書を単純に呼び出すことで、実装してみました。"
      ],
      "metadata": {
        "id": "3HNjEEme60-e"
      }
    },
    {
      "cell_type": "markdown",
      "source": [
        "Sudachi辞書を使うためSudacguPYをインストールします。"
      ],
      "metadata": {
        "id": "LNy11_XkBrlL"
      }
    },
    {
      "cell_type": "code",
      "execution_count": null,
      "metadata": {
        "id": "Yc6ObXT86sj0"
      },
      "outputs": [],
      "source": [
        "#!/usr/bin/env python3\n",
        "# -*- coding: utf-8 -*-\n",
        "!pip install sudachipy sudachidict_full"
      ]
    },
    {
      "cell_type": "markdown",
      "source": [
        "日本語文中の名詞トークンに対し、正規化した単語表記と生の表記のバリエーションを記録する関数です。"
      ],
      "metadata": {
        "id": "6fNxX8yVCcTt"
      }
    },
    {
      "cell_type": "code",
      "source": [
        "from sudachipy import tokenizer\n",
        "from sudachipy import dictionary\n",
        "from google.colab import files\n",
        "\n",
        "def add_vocabs(mode, text):\n",
        "    tokenizer_obj = dictionary.Dictionary(dict_type=\"full\").create()\n",
        "    if mode == 'A':\n",
        "      mode = tokenizer.Tokenizer.SplitMode.A\n",
        "    if mode == 'B':\n",
        "      mode = tokenizer.Tokenizer.SplitMode.B\n",
        "    if mode == 'C':\n",
        "      mode = tokenizer.Tokenizer.SplitMode.C\n",
        "\n",
        "    for token in tokenizer_obj.tokenize(text, mode):\n",
        "        if token.part_of_speech()[0] == '名詞':\n",
        "            if not token.normalized_form() in vocabs:\n",
        "               vocabs[token.normalized_form()] = {}\n",
        "            vocabs[token.normalized_form()][token.surface()] = 1"
      ],
      "metadata": {
        "id": "VJyyISH47Klv"
      },
      "execution_count": null,
      "outputs": []
    },
    {
      "cell_type": "markdown",
      "source": [
        "PC中の日本語テキストファイル(UTF-8)を読み込んで、表記のゆれと思しき記述を出力します。"
      ],
      "metadata": {
        "id": "SyIZwN9SD8f2"
      }
    },
    {
      "cell_type": "code",
      "source": [
        "if __name__ == \"__main__\":\n",
        "    uploaded = files.upload()\n",
        "    for fn in uploaded.keys():\n",
        "        pass\n",
        "    f = open(fn)\n",
        "    text = f.read()\n",
        "    f.close()\n",
        "    vocabs = {}\n",
        "    add_vocabs(\"A\", text)\n",
        "    add_vocabs(\"B\", text)\n",
        "    add_vocabs(\"C\", text)\n",
        "\n",
        "    for vocab in vocabs.keys():\n",
        "        if len(vocabs[vocab]) > 1:\n",
        "            print(\"\\t\".join(vocabs[vocab].keys()))\n"
      ],
      "metadata": {
        "id": "zz_DPS4E7gni"
      },
      "execution_count": null,
      "outputs": []
    }
  ]
}