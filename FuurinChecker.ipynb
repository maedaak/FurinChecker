{
  "nbformat": 4,
  "nbformat_minor": 0,
  "metadata": {
    "colab": {
      "provenance": [],
      "authorship_tag": "ABX9TyMjg1nZoyVvDjrDpP9B6KTp",
      "include_colab_link": true
    },
    "kernelspec": {
      "name": "python3",
      "display_name": "Python 3"
    },
    "language_info": {
      "name": "python"
    }
  },
  "cells": [
    {
      "cell_type": "markdown",
      "metadata": {
        "id": "view-in-github",
        "colab_type": "text"
      },
      "source": [
        "<a href=\"https://colab.research.google.com/github/maedaak/FurinChecker/blob/main/FurinChecker.ipynb\" target=\"_parent\"><img src=\"https://colab.research.google.com/assets/colab-badge.svg\" alt=\"Open In Colab\"/></a>"
      ]
    },
    {
      "cell_type": "markdown",
      "source": [
        "# Fuurin Checker\n",
        "日本語の文章中から異なる表記（異体字等）をつかっている名詞を出力します。\n",
        "spaCyの機能をごく簡単に呼び出すことで、実装してみました。"
      ],
      "metadata": {
        "id": "3HNjEEme60-e"
      }
    },
    {
      "cell_type": "markdown",
      "source": [
        "spaCyの日本語環境をインストールします。メインで使いたいのは、sudachi辞書です。"
      ],
      "metadata": {
        "id": "LNy11_XkBrlL"
      }
    },
    {
      "cell_type": "code",
      "execution_count": null,
      "metadata": {
        "id": "Yc6ObXT86sj0"
      },
      "outputs": [],
      "source": [
        "#!/usr/bin/env python3\n",
        "# -*- coding: utf-8 -*-\n",
        "!pip install spacy[ja]"
      ]
    },
    {
      "cell_type": "markdown",
      "source": [
        "日本語文中の名詞トークンに対し、正規化した単語表記と生の表記のバリエーションを記録する関数です。"
      ],
      "metadata": {
        "id": "6fNxX8yVCcTt"
      }
    },
    {
      "cell_type": "code",
      "source": [
        "from spacy.lang.ja import Japanese\n",
        "from google.colab import files\n",
        "\n",
        "def add_vocabs(mode, text):\n",
        "    cfg = {\"split_mode\": mode}\n",
        "    nlp = Japanese.from_config({\"nlp\": {\"tokenizer\": cfg}})\n",
        "    doc = nlp(text)\n",
        "    for token in doc:\n",
        "        if token.pos_ in [\"NOUN\", \"PROPN\"]:\n",
        "            if not token.norm_ in vocabs:\n",
        "               vocabs[token.norm_] = {}\n",
        "            vocabs[token.norm_][token.text] = 1"
      ],
      "metadata": {
        "id": "VJyyISH47Klv"
      },
      "execution_count": null,
      "outputs": []
    },
    {
      "cell_type": "markdown",
      "source": [
        "PC中のファイルを読み込んで、表記のゆれと思しき記述を出力します。"
      ],
      "metadata": {
        "id": "SyIZwN9SD8f2"
      }
    },
    {
      "cell_type": "code",
      "source": [
        "if __name__ == \"__main__\":\n",
        "    uploaded = files.upload()\n",
        "    for fn in uploaded.keys():\n",
        "        pass\n",
        "    f = open(fn)\n",
        "    text = f.read()\n",
        "    f.close()\n",
        "    vocabs = {}\n",
        "    add_vocabs(\"A\", text)\n",
        "    add_vocabs(\"B\", text)\n",
        "    add_vocabs(\"C\", text)\n",
        "\n",
        "    for vocab in vocabs.keys():\n",
        "        if len(vocabs[vocab]) > 1:\n",
        "            print(\"\\t\".join(vocabs[vocab].keys()))\n"
      ],
      "metadata": {
        "id": "zz_DPS4E7gni"
      },
      "execution_count": null,
      "outputs": []
    }
  ]
}
